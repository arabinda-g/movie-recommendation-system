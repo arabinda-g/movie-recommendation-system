{
 "cells": [
  {
   "cell_type": "code",
   "execution_count": 1,
   "metadata": {},
   "outputs": [
    {
     "name": "stderr",
     "output_type": "stream",
     "text": [
      "C:\\Users\\Administrator\\AppData\\Local\\Temp\\2\\ipykernel_1196\\1006435920.py:2: DeprecationWarning: \n",
      "Pyarrow will become a required dependency of pandas in the next major release of pandas (pandas 3.0),\n",
      "(to allow more performant data types, such as the Arrow string type, and better interoperability with other libraries)\n",
      "but was not found to be installed on your system.\n",
      "If this would cause problems for you,\n",
      "please provide us feedback at https://github.com/pandas-dev/pandas/issues/54466\n",
      "        \n",
      "  import pandas as pd\n"
     ]
    },
    {
     "name": "stdout",
     "output_type": "stream",
     "text": [
      "Computing the cosine similarity matrix...\n",
      "Done computing similarity matrix.\n"
     ]
    },
    {
     "data": {
      "text/plain": [
       "<surprise.prediction_algorithms.knns.KNNBasic at 0x22e0fd45c10>"
      ]
     },
     "execution_count": 1,
     "metadata": {},
     "output_type": "execute_result"
    }
   ],
   "source": [
    "from surprise import KNNBasic, Dataset, Reader\n",
    "import pandas as pd\n",
    "\n",
    "# Load the data\n",
    "ratings_columns = ['user_id', 'movie_id', 'rating', 'timestamp']\n",
    "movies_columns = ['movie_id', 'title'] # Add other columns as needed\n",
    "ratings = pd.read_csv('ml-100k/u.data', sep='\\t', names=ratings_columns, encoding='latin-1')\n",
    "movies = pd.read_csv('ml-100k/u.item', sep='|', names=movies_columns, encoding='latin-1', usecols=[0, 1])\n",
    "\n",
    "# Reader and data\n",
    "reader = Reader(rating_scale=(1, 5))\n",
    "data = Dataset.load_from_df(ratings[['user_id', 'movie_id', 'rating']], reader)\n",
    "\n",
    "# Train an item-based collaborative filtering model\n",
    "sim_options = {\n",
    "    'name': 'cosine',\n",
    "    'user_based': False  # Compute similarities between items\n",
    "}\n",
    "model = KNNBasic(sim_options=sim_options)\n",
    "trainingSet = data.build_full_trainset()\n",
    "model.fit(trainingSet)"
   ]
  },
  {
   "cell_type": "code",
   "execution_count": 2,
   "metadata": {},
   "outputs": [],
   "source": [
    "import pickle\n",
    "\n",
    "# Save the model to disk\n",
    "filename = 'finalized_model.sav'\n",
    "pickle.dump(model, open(filename, 'wb'))"
   ]
  },
  {
   "cell_type": "code",
   "execution_count": 4,
   "metadata": {},
   "outputs": [],
   "source": [
    "def find_movies_by_title(search_term):\n",
    "    # Filter movies that contain the search term in their title\n",
    "    search_term = search_term.lower()\n",
    "    matched_movies = movies[movies['title'].str.lower().str.contains(search_term)]\n",
    "    return matched_movies\n",
    "\n",
    "def get_similar_movies(movie_id, k):\n",
    "    try:\n",
    "        # Find similar items\n",
    "        movie_inner_id = model.trainset.to_inner_iid(movie_id)\n",
    "        movie_neighbors = model.get_neighbors(movie_inner_id, k=k)\n",
    "\n",
    "        # Convert inner ids of the neighbors into names\n",
    "        movie_neighbors = (model.trainset.to_raw_iid(inner_id) for inner_id in movie_neighbors)\n",
    "        movie_neighbors = (movies[movies['movie_id'] == id]['title'].iloc[0] for id in movie_neighbors)\n",
    "\n",
    "        return list(movie_neighbors)\n",
    "    except ValueError:\n",
    "        # This happens if the movie is not in the training set\n",
    "        return []\n"
   ]
  },
  {
   "cell_type": "code",
   "execution_count": 11,
   "metadata": {},
   "outputs": [
    {
     "name": "stdout",
     "output_type": "stream",
     "text": [
      "Movies similar to Man in the Iron Mask, The (1998):\n",
      "    Kolya (1996)\n",
      "    Jungle Book, The (1994)\n",
      "    Romy and Michele's High School Reunion (1997)\n",
      "    Only You (1994)\n",
      "    Sabrina (1995)\n",
      "    Sabrina (1954)\n",
      "    Restoration (1995)\n",
      "    Curdled (1996)\n",
      "    Crumb (1994)\n",
      "    Tales from the Hood (1995)\n",
      "\n",
      "\n"
     ]
    }
   ],
   "source": [
    "# Read model from disk\n",
    "filename = 'finalized_model.sav'\n",
    "model = pickle.load(open(filename, 'rb'))\n",
    "\n",
    "# Delete the model from memory\n",
    "# del model\n",
    "\n",
    "# Example usage\n",
    "search_term = \"iron\"\n",
    "matched_movies = find_movies_by_title(search_term)\n",
    "\n",
    "# For each matched movie, find similar movies\n",
    "for _, row in matched_movies.iterrows():\n",
    "    print(f\"Movies similar to {row['title']}:\")\n",
    "    similar_movies = get_similar_movies(row['movie_id'], 10)\n",
    "    for movie in similar_movies:\n",
    "        print(f\"    {movie}\")\n",
    "    print(\"\\n\")"
   ]
  }
 ],
 "metadata": {
  "kernelspec": {
   "display_name": ".venv",
   "language": "python",
   "name": "python3"
  },
  "language_info": {
   "codemirror_mode": {
    "name": "ipython",
    "version": 3
   },
   "file_extension": ".py",
   "mimetype": "text/x-python",
   "name": "python",
   "nbconvert_exporter": "python",
   "pygments_lexer": "ipython3",
   "version": "3.9.0"
  }
 },
 "nbformat": 4,
 "nbformat_minor": 2
}
